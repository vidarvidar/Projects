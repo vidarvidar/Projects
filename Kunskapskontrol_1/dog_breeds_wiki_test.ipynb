{
 "cells": [
  {
   "cell_type": "code",
   "execution_count": 2,
   "metadata": {},
   "outputs": [
    {
     "data": {
      "text/html": [
       "<div>\n",
       "<style scoped>\n",
       "    .dataframe tbody tr th:only-of-type {\n",
       "        vertical-align: middle;\n",
       "    }\n",
       "\n",
       "    .dataframe tbody tr th {\n",
       "        vertical-align: top;\n",
       "    }\n",
       "\n",
       "    .dataframe thead th {\n",
       "        text-align: right;\n",
       "    }\n",
       "</style>\n",
       "<table border=\"1\" class=\"dataframe\">\n",
       "  <thead>\n",
       "    <tr style=\"text-align: right;\">\n",
       "      <th></th>\n",
       "      <th>2024-12-08</th>\n",
       "      <th>2024-12-09</th>\n",
       "      <th>2024-12-10</th>\n",
       "      <th>2024-12-11</th>\n",
       "      <th>2024-12-12</th>\n",
       "      <th>2024-12-13</th>\n",
       "      <th>2024-12-14</th>\n",
       "      <th>2024-12-15</th>\n",
       "    </tr>\n",
       "  </thead>\n",
       "  <tbody>\n",
       "    <tr>\n",
       "      <th>count</th>\n",
       "      <td>513.000000</td>\n",
       "      <td>513.000000</td>\n",
       "      <td>513.000000</td>\n",
       "      <td>513.000000</td>\n",
       "      <td>513.000000</td>\n",
       "      <td>513.000000</td>\n",
       "      <td>513.000000</td>\n",
       "      <td>513.000000</td>\n",
       "    </tr>\n",
       "    <tr>\n",
       "      <th>mean</th>\n",
       "      <td>307.623782</td>\n",
       "      <td>263.194932</td>\n",
       "      <td>259.576998</td>\n",
       "      <td>259.249513</td>\n",
       "      <td>270.902534</td>\n",
       "      <td>267.922027</td>\n",
       "      <td>294.701754</td>\n",
       "      <td>301.528265</td>\n",
       "    </tr>\n",
       "    <tr>\n",
       "      <th>std</th>\n",
       "      <td>530.687814</td>\n",
       "      <td>460.125837</td>\n",
       "      <td>470.027462</td>\n",
       "      <td>461.864005</td>\n",
       "      <td>495.708180</td>\n",
       "      <td>472.690274</td>\n",
       "      <td>505.365306</td>\n",
       "      <td>525.502902</td>\n",
       "    </tr>\n",
       "    <tr>\n",
       "      <th>min</th>\n",
       "      <td>3.000000</td>\n",
       "      <td>4.000000</td>\n",
       "      <td>1.000000</td>\n",
       "      <td>1.000000</td>\n",
       "      <td>4.000000</td>\n",
       "      <td>3.000000</td>\n",
       "      <td>2.000000</td>\n",
       "      <td>2.000000</td>\n",
       "    </tr>\n",
       "    <tr>\n",
       "      <th>25%</th>\n",
       "      <td>33.000000</td>\n",
       "      <td>34.000000</td>\n",
       "      <td>28.000000</td>\n",
       "      <td>28.000000</td>\n",
       "      <td>31.000000</td>\n",
       "      <td>30.000000</td>\n",
       "      <td>34.000000</td>\n",
       "      <td>33.000000</td>\n",
       "    </tr>\n",
       "    <tr>\n",
       "      <th>50%</th>\n",
       "      <td>94.000000</td>\n",
       "      <td>86.000000</td>\n",
       "      <td>77.000000</td>\n",
       "      <td>75.000000</td>\n",
       "      <td>83.000000</td>\n",
       "      <td>85.000000</td>\n",
       "      <td>100.000000</td>\n",
       "      <td>99.000000</td>\n",
       "    </tr>\n",
       "    <tr>\n",
       "      <th>75%</th>\n",
       "      <td>285.000000</td>\n",
       "      <td>253.000000</td>\n",
       "      <td>247.000000</td>\n",
       "      <td>243.000000</td>\n",
       "      <td>246.000000</td>\n",
       "      <td>252.000000</td>\n",
       "      <td>272.000000</td>\n",
       "      <td>272.000000</td>\n",
       "    </tr>\n",
       "    <tr>\n",
       "      <th>max</th>\n",
       "      <td>4671.000000</td>\n",
       "      <td>4185.000000</td>\n",
       "      <td>4093.000000</td>\n",
       "      <td>3931.000000</td>\n",
       "      <td>4054.000000</td>\n",
       "      <td>3929.000000</td>\n",
       "      <td>4351.000000</td>\n",
       "      <td>4628.000000</td>\n",
       "    </tr>\n",
       "  </tbody>\n",
       "</table>\n",
       "</div>"
      ],
      "text/plain": [
       "        2024-12-08   2024-12-09   2024-12-10   2024-12-11   2024-12-12  \\\n",
       "count   513.000000   513.000000   513.000000   513.000000   513.000000   \n",
       "mean    307.623782   263.194932   259.576998   259.249513   270.902534   \n",
       "std     530.687814   460.125837   470.027462   461.864005   495.708180   \n",
       "min       3.000000     4.000000     1.000000     1.000000     4.000000   \n",
       "25%      33.000000    34.000000    28.000000    28.000000    31.000000   \n",
       "50%      94.000000    86.000000    77.000000    75.000000    83.000000   \n",
       "75%     285.000000   253.000000   247.000000   243.000000   246.000000   \n",
       "max    4671.000000  4185.000000  4093.000000  3931.000000  4054.000000   \n",
       "\n",
       "        2024-12-13   2024-12-14   2024-12-15  \n",
       "count   513.000000   513.000000   513.000000  \n",
       "mean    267.922027   294.701754   301.528265  \n",
       "std     472.690274   505.365306   525.502902  \n",
       "min       3.000000     2.000000     2.000000  \n",
       "25%      30.000000    34.000000    33.000000  \n",
       "50%      85.000000   100.000000    99.000000  \n",
       "75%     252.000000   272.000000   272.000000  \n",
       "max    3929.000000  4351.000000  4628.000000  "
      ]
     },
     "execution_count": 2,
     "metadata": {},
     "output_type": "execute_result"
    }
   ],
   "source": [
    "import pandas as pd\n",
    "import sqlite3 as sql\n",
    "\n",
    "df = pd.read_csv('massviews-20241208-20241215.csv')\n",
    "breed_list = pd.read_table('dog_list.txt', header=None)\n",
    "\n",
    "breed_list = breed_list.map(lambda x: x.strip(' [1234567890]'))\n",
    "df_strip = df.replace((r\"\\s*\\(.*\\)\"), \"\", regex=True)\n",
    "df_new = breed_list.merge(df_strip, 'left', left_on=0, right_on='Title')\n",
    "\n",
    "\n",
    "# unmatch_dogs = set(dogs).difference(set(dogs_wiki))\n",
    "# len(unmatch_dogs)\n",
    "\n",
    "# con = sql.connect('dog_breeds_wiki.db')\n",
    "# df_new.to_sql('dogs_pageviews', con, if_exists='replace')"
   ]
  },
  {
   "cell_type": "code",
   "execution_count": 4,
   "metadata": {},
   "outputs": [
    {
     "data": {
      "text/plain": [
       "count     513.000000\n",
       "mean      301.528265\n",
       "std       525.502902\n",
       "min         2.000000\n",
       "25%        33.000000\n",
       "50%        99.000000\n",
       "75%       272.000000\n",
       "max      4628.000000\n",
       "Name: 2024-12-15, dtype: float64"
      ]
     },
     "execution_count": 4,
     "metadata": {},
     "output_type": "execute_result"
    }
   ],
   "source": [
    "df_new.sort_values"
   ]
  },
  {
   "cell_type": "code",
   "execution_count": null,
   "metadata": {},
   "outputs": [],
   "source": [
    "# df2 = df.assign(result=df['Title'].isin(breed_list[0]))\n",
    "# df2\n",
    "\n",
    "# def keep_names_merge(df1, df2):\n",
    "# dogs = breed_list[0].tolist()\n",
    "# dogs_wiki = df['Title'].tolist()\n",
    "\n",
    "# unmatch_dogs = set(dogs).difference(set(dogs_wiki))\n",
    "# len(unmatch_dogs)\n",
    "\n",
    "missing_df = df_new[0][df_new.isnull().any(axis=1)]\n",
    "len(missing_df)"
   ]
  },
  {
   "cell_type": "code",
   "execution_count": null,
   "metadata": {},
   "outputs": [],
   "source": [
    "# data['result'] = data['result'].map(lambda x: x.lstrip('+-').rstrip('aAbBcC'))\n",
    "\n",
    "breed_list = breed_list.map(lambda x: x.strip(' [1234567890]'))\n",
    "breed_list"
   ]
  },
  {
   "cell_type": "code",
   "execution_count": null,
   "metadata": {},
   "outputs": [],
   "source": [
    "# df_strip = df['Title'].map(lambda x: x.strip('(aAbB)'))\n",
    "# df_strip\n",
    "df_strip = df.replace((r\"\\s*\\(.*\\)\"), \"\", regex=True)\n",
    "df_strip"
   ]
  },
  {
   "cell_type": "code",
   "execution_count": null,
   "metadata": {},
   "outputs": [],
   "source": [
    "#df1 = df1[~df1.index.isin(df2.index)]\n",
    "\n",
    "#df_new = df[~df.index.isin(il)]\n",
    "# il = breed_list.set_index(0).index\n",
    "# breed_list = breed_list.drop('name', axis=1)\n",
    "#breeds = breed_list[0].tolist()\n",
    "#df['Title'].isin(breed_list)\n"
   ]
  },
  {
   "cell_type": "code",
   "execution_count": null,
   "metadata": {},
   "outputs": [],
   "source": []
  },
  {
   "cell_type": "code",
   "execution_count": null,
   "metadata": {},
   "outputs": [],
   "source": []
  },
  {
   "cell_type": "code",
   "execution_count": null,
   "metadata": {},
   "outputs": [],
   "source": []
  }
 ],
 "metadata": {
  "kernelspec": {
   "display_name": ".venv",
   "language": "python",
   "name": "python3"
  },
  "language_info": {
   "codemirror_mode": {
    "name": "ipython",
    "version": 3
   },
   "file_extension": ".py",
   "mimetype": "text/x-python",
   "name": "python",
   "nbconvert_exporter": "python",
   "pygments_lexer": "ipython3",
   "version": "3.12.3"
  }
 },
 "nbformat": 4,
 "nbformat_minor": 2
}
