{
 "cells": [
  {
   "cell_type": "code",
   "execution_count": 3,
   "metadata": {},
   "outputs": [
    {
     "data": {
      "text/html": [
       "<div>\n",
       "<style scoped>\n",
       "    .dataframe tbody tr th:only-of-type {\n",
       "        vertical-align: middle;\n",
       "    }\n",
       "\n",
       "    .dataframe tbody tr th {\n",
       "        vertical-align: top;\n",
       "    }\n",
       "\n",
       "    .dataframe thead th {\n",
       "        text-align: right;\n",
       "    }\n",
       "</style>\n",
       "<table border=\"1\" class=\"dataframe\">\n",
       "  <thead>\n",
       "    <tr style=\"text-align: right;\">\n",
       "      <th></th>\n",
       "      <th>0</th>\n",
       "      <th>Title</th>\n",
       "      <th>2024-12-08</th>\n",
       "      <th>2024-12-09</th>\n",
       "      <th>2024-12-10</th>\n",
       "      <th>2024-12-11</th>\n",
       "      <th>2024-12-12</th>\n",
       "      <th>2024-12-13</th>\n",
       "      <th>2024-12-14</th>\n",
       "      <th>2024-12-15</th>\n",
       "    </tr>\n",
       "  </thead>\n",
       "  <tbody>\n",
       "    <tr>\n",
       "      <th>0</th>\n",
       "      <td>Affenpinscher</td>\n",
       "      <td>Affenpinscher</td>\n",
       "      <td>323.0</td>\n",
       "      <td>300.0</td>\n",
       "      <td>251.0</td>\n",
       "      <td>250.0</td>\n",
       "      <td>249.0</td>\n",
       "      <td>272.0</td>\n",
       "      <td>278.0</td>\n",
       "      <td>317.0</td>\n",
       "    </tr>\n",
       "    <tr>\n",
       "      <th>1</th>\n",
       "      <td>Afghan Hound</td>\n",
       "      <td>Afghan Hound</td>\n",
       "      <td>598.0</td>\n",
       "      <td>491.0</td>\n",
       "      <td>508.0</td>\n",
       "      <td>497.0</td>\n",
       "      <td>493.0</td>\n",
       "      <td>488.0</td>\n",
       "      <td>589.0</td>\n",
       "      <td>632.0</td>\n",
       "    </tr>\n",
       "    <tr>\n",
       "      <th>2</th>\n",
       "      <td>Africanis</td>\n",
       "      <td>Africanis</td>\n",
       "      <td>218.0</td>\n",
       "      <td>196.0</td>\n",
       "      <td>384.0</td>\n",
       "      <td>1213.0</td>\n",
       "      <td>1006.0</td>\n",
       "      <td>667.0</td>\n",
       "      <td>495.0</td>\n",
       "      <td>424.0</td>\n",
       "    </tr>\n",
       "    <tr>\n",
       "      <th>3</th>\n",
       "      <td>Aidi</td>\n",
       "      <td>Aidi</td>\n",
       "      <td>87.0</td>\n",
       "      <td>84.0</td>\n",
       "      <td>97.0</td>\n",
       "      <td>96.0</td>\n",
       "      <td>85.0</td>\n",
       "      <td>102.0</td>\n",
       "      <td>113.0</td>\n",
       "      <td>100.0</td>\n",
       "    </tr>\n",
       "    <tr>\n",
       "      <th>4</th>\n",
       "      <td>Airedale Terrier</td>\n",
       "      <td>Airedale Terrier</td>\n",
       "      <td>692.0</td>\n",
       "      <td>595.0</td>\n",
       "      <td>570.0</td>\n",
       "      <td>515.0</td>\n",
       "      <td>566.0</td>\n",
       "      <td>502.0</td>\n",
       "      <td>657.0</td>\n",
       "      <td>630.0</td>\n",
       "    </tr>\n",
       "  </tbody>\n",
       "</table>\n",
       "</div>"
      ],
      "text/plain": [
       "                  0             Title  2024-12-08  2024-12-09  2024-12-10  \\\n",
       "0     Affenpinscher     Affenpinscher       323.0       300.0       251.0   \n",
       "1      Afghan Hound      Afghan Hound       598.0       491.0       508.0   \n",
       "2         Africanis         Africanis       218.0       196.0       384.0   \n",
       "3              Aidi              Aidi        87.0        84.0        97.0   \n",
       "4  Airedale Terrier  Airedale Terrier       692.0       595.0       570.0   \n",
       "\n",
       "   2024-12-11  2024-12-12  2024-12-13  2024-12-14  2024-12-15  \n",
       "0       250.0       249.0       272.0       278.0       317.0  \n",
       "1       497.0       493.0       488.0       589.0       632.0  \n",
       "2      1213.0      1006.0       667.0       495.0       424.0  \n",
       "3        96.0        85.0       102.0       113.0       100.0  \n",
       "4       515.0       566.0       502.0       657.0       630.0  "
      ]
     },
     "execution_count": 3,
     "metadata": {},
     "output_type": "execute_result"
    }
   ],
   "source": [
    "import pandas as pd\n",
    "import sqlite3 as sql\n",
    "\n",
    "df = pd.read_csv('massviews-20241208-20241215.csv')\n",
    "breed_list = pd.read_table('dog_list.txt', header=None)\n",
    "\n",
    "breed_list = breed_list.map(lambda x: x.strip(' [1234567890]'))\n",
    "df_strip = df.replace((r\"\\s*\\(.*\\)\"), \"\", regex=True)\n",
    "df_new = breed_list.merge(df_strip, 'left', left_on=0, right_on='Title')\n",
    "df_new.head()\n",
    "\n",
    "# unmatch_dogs = set(dogs).difference(set(dogs_wiki))\n",
    "# len(unmatch_dogs)\n",
    "\n",
    "# con = sql.connect('dog_breeds_wiki.db')\n",
    "# df_new.to_sql('dogs_pageviews', con, if_exists='replace')"
   ]
  },
  {
   "cell_type": "code",
   "execution_count": null,
   "metadata": {},
   "outputs": [],
   "source": [
    "# df_unmatched = df_strip.merge(breed_list, 'inner', left_on='Title', right_on=0)\n",
    "# df_unmatched.head()\n",
    "breed_list.compare(df_strip)"
   ]
  },
  {
   "cell_type": "code",
   "execution_count": null,
   "metadata": {},
   "outputs": [],
   "source": [
    "# df2 = df.assign(result=df['Title'].isin(breed_list[0]))\n",
    "# df2\n",
    "\n",
    "# def keep_names_merge(df1, df2):\n",
    "# dogs = breed_list[0].tolist()\n",
    "# dogs_wiki = df['Title'].tolist()\n",
    "\n",
    "# unmatch_dogs = set(dogs).difference(set(dogs_wiki))\n",
    "# len(unmatch_dogs)\n",
    "\n",
    "missing_df = df_new[0][df_new.isnull().any(axis=1)]\n",
    "len(missing_df)"
   ]
  },
  {
   "cell_type": "code",
   "execution_count": null,
   "metadata": {},
   "outputs": [],
   "source": [
    "# data['result'] = data['result'].map(lambda x: x.lstrip('+-').rstrip('aAbBcC'))\n",
    "\n",
    "breed_list = breed_list.map(lambda x: x.strip(' [1234567890]'))\n",
    "breed_list"
   ]
  },
  {
   "cell_type": "code",
   "execution_count": null,
   "metadata": {},
   "outputs": [],
   "source": [
    "# df_strip = df['Title'].map(lambda x: x.strip('(aAbB)'))\n",
    "# df_strip\n",
    "df_strip = df.replace((r\"\\s*\\(.*\\)\"), \"\", regex=True)\n",
    "df_strip"
   ]
  },
  {
   "cell_type": "code",
   "execution_count": null,
   "metadata": {},
   "outputs": [],
   "source": [
    "#df1 = df1[~df1.index.isin(df2.index)]\n",
    "\n",
    "#df_new = df[~df.index.isin(il)]\n",
    "# il = breed_list.set_index(0).index\n",
    "# breed_list = breed_list.drop('name', axis=1)\n",
    "#breeds = breed_list[0].tolist()\n",
    "#df['Title'].isin(breed_list)\n"
   ]
  },
  {
   "cell_type": "code",
   "execution_count": null,
   "metadata": {},
   "outputs": [],
   "source": []
  },
  {
   "cell_type": "code",
   "execution_count": null,
   "metadata": {},
   "outputs": [],
   "source": []
  },
  {
   "cell_type": "code",
   "execution_count": null,
   "metadata": {},
   "outputs": [],
   "source": []
  }
 ],
 "metadata": {
  "kernelspec": {
   "display_name": ".venv",
   "language": "python",
   "name": "python3"
  },
  "language_info": {
   "codemirror_mode": {
    "name": "ipython",
    "version": 3
   },
   "file_extension": ".py",
   "mimetype": "text/x-python",
   "name": "python",
   "nbconvert_exporter": "python",
   "pygments_lexer": "ipython3",
   "version": "3.12.3"
  }
 },
 "nbformat": 4,
 "nbformat_minor": 2
}
