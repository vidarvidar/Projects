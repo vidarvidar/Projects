{
 "cells": [
  {
   "cell_type": "code",
   "execution_count": 2,
   "metadata": {},
   "outputs": [
    {
     "name": "stdout",
     "output_type": "stream",
     "text": [
      "Requirement already satisfied: statsbombpy in c:\\users\\vidar\\documents\\skóli\\tuc\\data_science\\projects\\kunskapskontrol_3\\.venv\\lib\\site-packages (1.14.0)\n",
      "Requirement already satisfied: pandas in c:\\users\\vidar\\documents\\skóli\\tuc\\data_science\\projects\\kunskapskontrol_3\\.venv\\lib\\site-packages (from statsbombpy) (2.2.3)\n",
      "Requirement already satisfied: requests in c:\\users\\vidar\\documents\\skóli\\tuc\\data_science\\projects\\kunskapskontrol_3\\.venv\\lib\\site-packages (from statsbombpy) (2.32.3)\n",
      "Requirement already satisfied: requests-cache in c:\\users\\vidar\\documents\\skóli\\tuc\\data_science\\projects\\kunskapskontrol_3\\.venv\\lib\\site-packages (from statsbombpy) (1.2.1)\n",
      "Requirement already satisfied: inflect in c:\\users\\vidar\\documents\\skóli\\tuc\\data_science\\projects\\kunskapskontrol_3\\.venv\\lib\\site-packages (from statsbombpy) (7.5.0)\n",
      "Requirement already satisfied: joblib in c:\\users\\vidar\\documents\\skóli\\tuc\\data_science\\projects\\kunskapskontrol_3\\.venv\\lib\\site-packages (from statsbombpy) (1.4.2)\n",
      "Requirement already satisfied: more_itertools>=8.5.0 in c:\\users\\vidar\\documents\\skóli\\tuc\\data_science\\projects\\kunskapskontrol_3\\.venv\\lib\\site-packages (from inflect->statsbombpy) (10.6.0)\n",
      "Requirement already satisfied: typeguard>=4.0.1 in c:\\users\\vidar\\documents\\skóli\\tuc\\data_science\\projects\\kunskapskontrol_3\\.venv\\lib\\site-packages (from inflect->statsbombpy) (4.4.1)\n",
      "Requirement already satisfied: numpy>=1.26.0 in c:\\users\\vidar\\documents\\skóli\\tuc\\data_science\\projects\\kunskapskontrol_3\\.venv\\lib\\site-packages (from pandas->statsbombpy) (2.2.2)\n",
      "Requirement already satisfied: python-dateutil>=2.8.2 in c:\\users\\vidar\\documents\\skóli\\tuc\\data_science\\projects\\kunskapskontrol_3\\.venv\\lib\\site-packages (from pandas->statsbombpy) (2.9.0.post0)\n",
      "Requirement already satisfied: pytz>=2020.1 in c:\\users\\vidar\\documents\\skóli\\tuc\\data_science\\projects\\kunskapskontrol_3\\.venv\\lib\\site-packages (from pandas->statsbombpy) (2024.2)\n",
      "Requirement already satisfied: tzdata>=2022.7 in c:\\users\\vidar\\documents\\skóli\\tuc\\data_science\\projects\\kunskapskontrol_3\\.venv\\lib\\site-packages (from pandas->statsbombpy) (2025.1)\n",
      "Requirement already satisfied: charset-normalizer<4,>=2 in c:\\users\\vidar\\documents\\skóli\\tuc\\data_science\\projects\\kunskapskontrol_3\\.venv\\lib\\site-packages (from requests->statsbombpy) (3.4.1)\n",
      "Requirement already satisfied: idna<4,>=2.5 in c:\\users\\vidar\\documents\\skóli\\tuc\\data_science\\projects\\kunskapskontrol_3\\.venv\\lib\\site-packages (from requests->statsbombpy) (3.10)\n",
      "Requirement already satisfied: urllib3<3,>=1.21.1 in c:\\users\\vidar\\documents\\skóli\\tuc\\data_science\\projects\\kunskapskontrol_3\\.venv\\lib\\site-packages (from requests->statsbombpy) (2.3.0)\n",
      "Requirement already satisfied: certifi>=2017.4.17 in c:\\users\\vidar\\documents\\skóli\\tuc\\data_science\\projects\\kunskapskontrol_3\\.venv\\lib\\site-packages (from requests->statsbombpy) (2024.12.14)\n",
      "Requirement already satisfied: attrs>=21.2 in c:\\users\\vidar\\documents\\skóli\\tuc\\data_science\\projects\\kunskapskontrol_3\\.venv\\lib\\site-packages (from requests-cache->statsbombpy) (24.3.0)\n",
      "Requirement already satisfied: cattrs>=22.2 in c:\\users\\vidar\\documents\\skóli\\tuc\\data_science\\projects\\kunskapskontrol_3\\.venv\\lib\\site-packages (from requests-cache->statsbombpy) (24.1.2)\n",
      "Requirement already satisfied: platformdirs>=2.5 in c:\\users\\vidar\\documents\\skóli\\tuc\\data_science\\projects\\kunskapskontrol_3\\.venv\\lib\\site-packages (from requests-cache->statsbombpy) (4.3.6)\n",
      "Requirement already satisfied: url-normalize>=1.4 in c:\\users\\vidar\\documents\\skóli\\tuc\\data_science\\projects\\kunskapskontrol_3\\.venv\\lib\\site-packages (from requests-cache->statsbombpy) (1.4.3)\n",
      "Requirement already satisfied: six>=1.5 in c:\\users\\vidar\\documents\\skóli\\tuc\\data_science\\projects\\kunskapskontrol_3\\.venv\\lib\\site-packages (from python-dateutil>=2.8.2->pandas->statsbombpy) (1.17.0)\n",
      "Requirement already satisfied: typing-extensions>=4.10.0 in c:\\users\\vidar\\documents\\skóli\\tuc\\data_science\\projects\\kunskapskontrol_3\\.venv\\lib\\site-packages (from typeguard>=4.0.1->inflect->statsbombpy) (4.12.2)\n"
     ]
    }
   ],
   "source": [
    "! pip install statsbombpy\n",
    "import pandas as pd\n",
    "from statsbombpy import sb\n",
    "import sqlite3 as sql"
   ]
  },
  {
   "cell_type": "code",
   "execution_count": 2,
   "metadata": {},
   "outputs": [],
   "source": [
    "con = sql.connect('football_stats.db')"
   ]
  },
  {
   "cell_type": "code",
   "execution_count": 1,
   "metadata": {},
   "outputs": [
    {
     "ename": "NameError",
     "evalue": "name 'sb' is not defined",
     "output_type": "error",
     "traceback": [
      "\u001b[1;31m---------------------------------------------------------------------------\u001b[0m",
      "\u001b[1;31mNameError\u001b[0m                                 Traceback (most recent call last)",
      "Cell \u001b[1;32mIn[1], line 1\u001b[0m\n\u001b[1;32m----> 1\u001b[0m comps \u001b[38;5;241m=\u001b[39m \u001b[43msb\u001b[49m\u001b[38;5;241m.\u001b[39mcompetitions()\n",
      "\u001b[1;31mNameError\u001b[0m: name 'sb' is not defined"
     ]
    }
   ],
   "source": [
    "comps = sb.competitions()\n"
   ]
  },
  {
   "cell_type": "code",
   "execution_count": 3,
   "metadata": {},
   "outputs": [
    {
     "name": "stderr",
     "output_type": "stream",
     "text": [
      "c:\\Users\\vidar\\Documents\\Skóli\\TUC\\Data_Science\\Projects\\kunskapskontrol_3\\.venv\\Lib\\site-packages\\statsbombpy\\api_client.py:21: NoAuthWarning: credentials were not supplied. open data access only\n",
      "  warnings.warn(\n"
     ]
    }
   ],
   "source": [
    "df2 = sb.competition_events(country='International', division=\"Women's World Cup\", season='2023', gender='female')"
   ]
  },
  {
   "cell_type": "code",
   "execution_count": null,
   "metadata": {},
   "outputs": [],
   "source": [
    "df1 = df2[['id', 'index', 'match_id', 'location', \n",
    "           'period', 'minute','second','timestamp', 'type',\n",
    "           'pass_type', 'pass_angle', 'pass_length', 'pass_outcome', \n",
    "           'shot_outcome', 'shot_statsbomb_xg', 'dribble_nutmeg',\n",
    "           'possession_team','play_pattern', 'player']]\n",
    "df1.dropna(subset=['location'], inplace=True)\n",
    "df1[['location_x', 'location_y']] = pd.DataFrame(df1['location'].to_list(), index=df1.index)\n",
    "df1.drop(columns=['location'], inplace=True)"
   ]
  },
  {
   "cell_type": "code",
   "execution_count": null,
   "metadata": {},
   "outputs": [],
   "source": [
    "df1.to_sql('WomensWorldCup2023', con, if_exists='replace')"
   ]
  }
 ],
 "metadata": {
  "kernelspec": {
   "display_name": ".venv",
   "language": "python",
   "name": "python3"
  },
  "language_info": {
   "codemirror_mode": {
    "name": "ipython",
    "version": 3
   },
   "file_extension": ".py",
   "mimetype": "text/x-python",
   "name": "python",
   "nbconvert_exporter": "python",
   "pygments_lexer": "ipython3",
   "version": "3.12.3"
  }
 },
 "nbformat": 4,
 "nbformat_minor": 2
}
