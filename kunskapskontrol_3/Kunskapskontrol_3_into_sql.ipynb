{
 "cells": [
  {
   "cell_type": "code",
   "execution_count": null,
   "metadata": {},
   "outputs": [],
   "source": [
    "! pip install statsbombpy\n",
    "import pandas as pd\n",
    "from statsbombpy import sb\n",
    "import sqlite3 as sql"
   ]
  },
  {
   "cell_type": "code",
   "execution_count": 2,
   "metadata": {},
   "outputs": [],
   "source": [
    "con = sql.connect('football_stats.db')"
   ]
  },
  {
   "cell_type": "code",
   "execution_count": null,
   "metadata": {},
   "outputs": [],
   "source": [
    "comps = sb.competitions()\n"
   ]
  },
  {
   "cell_type": "code",
   "execution_count": null,
   "metadata": {},
   "outputs": [],
   "source": [
    "df2 = sb.competition_events(country='International', division=\"Women's World Cup\", season='2023', gender='female')"
   ]
  },
  {
   "cell_type": "code",
   "execution_count": null,
   "metadata": {},
   "outputs": [],
   "source": [
    "df1 = df2[['id', 'index', 'match_id', 'location', \n",
    "           'period', 'minute','second','timestamp', 'type',\n",
    "           'pass_type', 'pass_angle', 'pass_length', 'pass_outcome', \n",
    "           'shot_outcome', 'shot_statsbomb_xg', 'dribble_nutmeg',\n",
    "           'possession_team','play_pattern', 'player']]\n",
    "df1.dropna(subset=['location'], inplace=True)\n",
    "df1[['location_x', 'location_y']] = pd.DataFrame(df1['location'].to_list(), index=df1.index)\n",
    "df1.drop(columns=['location'], inplace=True)"
   ]
  },
  {
   "cell_type": "code",
   "execution_count": null,
   "metadata": {},
   "outputs": [],
   "source": [
    "df1.to_sql('WomensWorldCup2023', con, if_exists='replace')"
   ]
  }
 ],
 "metadata": {
  "kernelspec": {
   "display_name": ".venv",
   "language": "python",
   "name": "python3"
  },
  "language_info": {
   "codemirror_mode": {
    "name": "ipython",
    "version": 3
   },
   "file_extension": ".py",
   "mimetype": "text/x-python",
   "name": "python",
   "nbconvert_exporter": "python",
   "pygments_lexer": "ipython3",
   "version": "3.12.3"
  }
 },
 "nbformat": 4,
 "nbformat_minor": 2
}
