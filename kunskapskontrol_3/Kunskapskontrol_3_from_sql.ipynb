{
 "cells": [
  {
   "cell_type": "code",
   "execution_count": 1,
   "metadata": {},
   "outputs": [],
   "source": [
    "import pandas as pd\n",
    "import numpy as np\n",
    "import matplotlib.pyplot as plt\n",
    "import sqlite3 as sql\n",
    "import seaborn as sns\n",
    "from scipy import stats"
   ]
  },
  {
   "cell_type": "code",
   "execution_count": 2,
   "metadata": {},
   "outputs": [],
   "source": [
    "connection = sql.connect(r'C:\\Users\\vidar\\Documents\\Skóli\\TUC\\Data_Science\\Projects\\kunskapskontrol_3\\football_stats.db')"
   ]
  },
  {
   "cell_type": "code",
   "execution_count": null,
   "metadata": {},
   "outputs": [],
   "source": [
    "shots = pd.read_sql(\"\"\"SELECT id, period, timestamp, minute, second, location_x, location_y, player, possession_team, shot_outcome, shot_statsbomb_xg\n",
    "                      FROM WomensWorldCup2023 WHERE type IS 'Shot'\n",
    "                      ORDER BY period, timestamp;\"\"\", connection)\n",
    "shots['distance_from_goal'] = np.sqrt(((shots.location_y-40)**2) + ((shots.location_x-120)**2))\n",
    "\n",
    "passes = pd.read_sql(\"\"\"SELECT id, period, timestamp, minute, second, location_x, location_y, player, possession_team, \n",
    "                    pass_type, pass_length, pass_angle, pass_outcome\n",
    "                    FROM WomensWorldCup2023 WHERE type IS 'Pass'\n",
    "                    ORDER BY period, timestamp;\"\"\", connection)\n",
    "\n",
    "passes.pass_outcome.fillna('Complete', inplace=True)\n",
    "passes.pass_type.fillna('Pass', inplace=True)\n",
    "passes['pass_length'] = passes.pass_length.apply(lambda x: x*0.9144)\n",
    "passes['distance_from_goal'] = np.sqrt(((passes.location_y-40)**2) + ((passes.location_x-120)**2))"
   ]
  },
  {
   "cell_type": "code",
   "execution_count": null,
   "metadata": {},
   "outputs": [],
   "source": [
    "fig, ax = plt.subplots(figsize=(9, 5))\n",
    "ax = plt.scatter(shots['location_x'], shots['location_y'], c=shots['shot_statsbomb_xg'], alpha=0.6, cmap='Reds')\n",
    "fig.colorbar(ax, shrink=0.75)\n",
    "ax = plt.gca()\n",
    "ax.set_ylim([80, 0])\n",
    "ax.set_xlim([0, 120])\n",
    "ax.axhline(y=18, xmax=0.15, linestyle='--', linewidth=0.5, c='black')\n",
    "ax.axhline(y=62, xmax=0.15, linestyle='--', linewidth=0.5, c='black')\n",
    "ax.axhline(y=36, xmax=0.007, linewidth=0.5, c='red')\n",
    "ax.axhline(y=44, xmax=0.007, linewidth=0.5, c='red')\n",
    "ax.axvline(x=0.1, ymax=(36/80), ymin=(44/80), linewidth=2, c='red')\n",
    "ax.axvline(x=119.7, ymax=(36/80), ymin=(44/80), linewidth=2, c='red')\n",
    "ax.axhline(y=36, xmin=0.993, xmax=1, linewidth=0.5, c='red')\n",
    "ax.axhline(y=44, xmin=0.993, xmax=1, linewidth=0.5, c='red')\n",
    "ax.axhline(y=18, xmin=0.85, xmax=1, linestyle='--', linewidth=0.5, c='black')\n",
    "ax.axhline(y=62, xmin=0.85, xmax=1, linestyle='--', linewidth=0.5, c='black')\n",
    "ax.axvline(x=60, linestyle='--', linewidth=0.5, c='black')\n",
    "ax.axvline(x=18, ymax=0.225, ymin=0.775, linestyle='--', linewidth=0.5, c='black')\n",
    "ax.axvline(x=102, ymax=0.225, ymin=0.775, linestyle='--', linewidth=0.5, c='black')\n"
   ]
  },
  {
   "cell_type": "code",
   "execution_count": null,
   "metadata": {},
   "outputs": [],
   "source": [
    "\n",
    "fig, ax = plt.subplots(1)\n",
    "ax = sns.scatterplot(x=shots['distance_from_goal'], y=shots['shot_statsbomb_xg'], hue=shots['shot_outcome'],alpha=0.7)\n",
    "ax.set_ylabel('xG')\n",
    "ax.set_xlabel('Distance from centre of goal')\n",
    "ax.invert_xaxis()\n",
    "\n",
    "stats.pearsonr(shots['distance_from_goal'], shots['shot_statsbomb_xg'])"
   ]
  },
  {
   "cell_type": "code",
   "execution_count": null,
   "metadata": {},
   "outputs": [],
   "source": []
  },
  {
   "cell_type": "code",
   "execution_count": null,
   "metadata": {},
   "outputs": [],
   "source": [
    "fig, ax = plt.subplots()\n",
    "ax = sns.scatterplot(shots, x='minute', y='shot_statsbomb_xg', c='Pink', alpha=0.75)\n",
    "ax = plt.gca()\n",
    "ax.set_ylim([0,1])\n",
    "ax.set_xlim([0, 140])\n",
    "ax.set_ylabel('xG')\n",
    "ax.set_xlabel('Minute')\n",
    "\n"
   ]
  },
  {
   "cell_type": "code",
   "execution_count": null,
   "metadata": {},
   "outputs": [],
   "source": [
    "passes = pd.read_sql(\"\"\"SELECT id, period, timestamp, minute, second, location_x, location_y, player, possession_team, \n",
    "                    pass_type, pass_length, pass_angle, pass_outcome\n",
    "                    FROM WomensWorldCup2023 WHERE type IS 'Pass'\n",
    "                    ORDER BY period, timestamp;\"\"\", connection)\n",
    "\n",
    "passes.pass_outcome.fillna('Complete', inplace=True)\n",
    "passes.pass_type.fillna('Pass', inplace=True)\n",
    "passes['pass_length'] = passes.pass_length.apply(lambda x: x*0.9144)\n",
    "passes['distance_from_goal'] = np.sqrt(((passes.location_y-40)**2) + ((passes.location_x-120)**2))"
   ]
  },
  {
   "cell_type": "code",
   "execution_count": null,
   "metadata": {},
   "outputs": [],
   "source": []
  },
  {
   "cell_type": "code",
   "execution_count": null,
   "metadata": {},
   "outputs": [],
   "source": [
    "fig, ax = plt.subplots()\n",
    "ax = sns.histplot(data=passes, y='pass_length', x='distance_from_goal')\n",
    "ax.set_xlabel('Distance from goal')\n",
    "ax.set_ylabel('Pass Length')\n",
    "ax.invert_xaxis()"
   ]
  },
  {
   "cell_type": "code",
   "execution_count": null,
   "metadata": {},
   "outputs": [],
   "source": [
    "fig, ax = plt.subplots(figsize=(8,5))\n",
    "ax = sns.histplot(data=passes, x='distance_from_goal', hue='pass_type', multiple='stack')\n",
    "ax.set_xlabel('Distance from goal')\n",
    "ax.invert_xaxis()\n"
   ]
  },
  {
   "cell_type": "code",
   "execution_count": null,
   "metadata": {},
   "outputs": [],
   "source": [
    "fig, ax = plt.subplots()\n",
    "ax = sns.histplot(data=passes, x='pass_length', hue='pass_type', stat='count', palette='Set2', multiple='stack')\n",
    "ax.set_xlabel('Pass Length (m)')\n"
   ]
  },
  {
   "cell_type": "code",
   "execution_count": null,
   "metadata": {},
   "outputs": [],
   "source": [
    "\n"
   ]
  },
  {
   "cell_type": "code",
   "execution_count": null,
   "metadata": {},
   "outputs": [],
   "source": [
    "fig, (ax1, ax2) = plt.subplots(2, figsize=(7, 9))\n",
    "ax1 = sns.boxplot(passes, y='pass_length', x='pass_type', hue='pass_type', legend=False, palette='pastel', ax=ax1)\n",
    "ax2 = sns.boxplot(passes, y='pass_length', x='pass_outcome', hue='pass_outcome', legend=False, ax=ax2)\n",
    "ax1.set_title('Pass Type')\n",
    "ax2.set_title('Pass Outcome')\n",
    "ax1.tick_params(direction='inout', axis='x', labelsize='small')\n",
    "ax1.set_xlabel('')\n",
    "ax2.set_xlabel('')\n",
    "ax1.set_ylabel('')\n",
    "ax2.set_ylabel('')\n",
    "ax2.tick_params(axis='x', direction='inout', labelsize='small')\n",
    "fig.supylabel('Pass Length (m)')\n",
    "\n"
   ]
  }
 ],
 "metadata": {
  "kernelspec": {
   "display_name": ".venv",
   "language": "python",
   "name": "python3"
  },
  "language_info": {
   "codemirror_mode": {
    "name": "ipython",
    "version": 3
   },
   "file_extension": ".py",
   "mimetype": "text/x-python",
   "name": "python",
   "nbconvert_exporter": "python",
   "pygments_lexer": "ipython3",
   "version": "3.12.3"
  }
 },
 "nbformat": 4,
 "nbformat_minor": 2
}
