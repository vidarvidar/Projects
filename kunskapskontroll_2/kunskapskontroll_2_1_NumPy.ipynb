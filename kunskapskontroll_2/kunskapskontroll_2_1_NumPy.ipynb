{
 "cells": [
  {
   "cell_type": "markdown",
   "id": "dacf74e6",
   "metadata": {},
   "source": [
    "# NumPy"
   ]
  },
  {
   "cell_type": "markdown",
   "id": "01b2bf34",
   "metadata": {},
   "source": [
    "Read the links: https://numpy.org/doc/stable/user/quickstart.html  and https://numpy.org/doc/stable/user/basics.broadcasting.html  before solving the exercises. "
   ]
  },
  {
   "cell_type": "code",
   "execution_count": 2,
   "id": "1f79e4a6",
   "metadata": {},
   "outputs": [],
   "source": [
    "import numpy as np"
   ]
  },
  {
   "cell_type": "markdown",
   "id": "7dae6889",
   "metadata": {},
   "source": [
    "### Print out the dimension (number of axes), shape, size and the datatype of the matrix A."
   ]
  },
  {
   "cell_type": "code",
   "execution_count": 3,
   "id": "7b3678cd",
   "metadata": {},
   "outputs": [],
   "source": [
    "A = np.arange(1, 16).reshape(3,5)\n"
   ]
  },
  {
   "cell_type": "code",
   "execution_count": 4,
   "id": "31d39235",
   "metadata": {},
   "outputs": [
    {
     "name": "stdout",
     "output_type": "stream",
     "text": [
      "2\n"
     ]
    }
   ],
   "source": [
    "print(A.ndim)"
   ]
  },
  {
   "cell_type": "markdown",
   "id": "e56d2a96",
   "metadata": {},
   "source": [
    "### Do the following computations on the matrices B and C: \n",
    "* Elementwise subtraction. \n",
    "* Elementwise multiplication. \n",
    "* Matrix multiplication (by default you should use the @ operator)."
   ]
  },
  {
   "cell_type": "code",
   "execution_count": 6,
   "id": "a7053fbb",
   "metadata": {},
   "outputs": [
    {
     "name": "stdout",
     "output_type": "stream",
     "text": [
      "[[1 2 3]\n",
      " [4 5 6]\n",
      " [7 8 9]]\n",
      "\n",
      "[[2. 2. 2.]\n",
      " [2. 2. 2.]\n",
      " [2. 2. 2.]]\n"
     ]
    }
   ],
   "source": [
    "B = np.arange(1, 10).reshape(3, 3)\n",
    "C = np.ones((3, 3))*2\n",
    "\n",
    "print(B)\n",
    "print()\n",
    "print(C)"
   ]
  },
  {
   "cell_type": "code",
   "execution_count": 7,
   "id": "3cd794ae",
   "metadata": {},
   "outputs": [
    {
     "name": "stdout",
     "output_type": "stream",
     "text": [
      "[[-1.  0.  1.]\n",
      " [ 2.  3.  4.]\n",
      " [ 5.  6.  7.]]\n",
      "[[ 2.  4.  6.]\n",
      " [ 8. 10. 12.]\n",
      " [14. 16. 18.]]\n",
      "[[12. 12. 12.]\n",
      " [30. 30. 30.]\n",
      " [48. 48. 48.]]\n"
     ]
    }
   ],
   "source": [
    "print(B - C)\n",
    "print(B * C)\n",
    "print(B @ C)"
   ]
  },
  {
   "cell_type": "markdown",
   "id": "96030d53",
   "metadata": {},
   "source": [
    "### Do the following calculations on the matrix:\n",
    "* Exponentiate each number elementwise (use the np.exp function).\n",
    "\n",
    "* Calculate the minimum value in the whole matrix. \n",
    "* Calculcate the minimum value in each row. \n",
    "* Calculcate the minimum value in each column. \n",
    "\n",
    "\n",
    "* Find the index value for the minimum value in the whole matrix (hint: use np.argmin).\n",
    "* Find the index value for the minimum value in each row (hint: use np.argmin).\n",
    "\n",
    "\n",
    "* Calculate the sum for all elements.\n",
    "* Calculate the mean for each column. \n",
    "* Calculate the median for each column. "
   ]
  },
  {
   "cell_type": "code",
   "execution_count": 6,
   "id": "f8a9166b",
   "metadata": {},
   "outputs": [
    {
     "name": "stdout",
     "output_type": "stream",
     "text": [
      "[[1 2 3]\n",
      " [4 5 6]\n",
      " [7 8 9]]\n"
     ]
    }
   ],
   "source": [
    "B = np.arange(1, 10).reshape(3, 3)\n",
    "print(B)"
   ]
  },
  {
   "cell_type": "code",
   "execution_count": 7,
   "id": "f03f24f7",
   "metadata": {},
   "outputs": [
    {
     "name": "stdout",
     "output_type": "stream",
     "text": [
      "[[2.71828183e+00 7.38905610e+00 2.00855369e+01]\n",
      " [5.45981500e+01 1.48413159e+02 4.03428793e+02]\n",
      " [1.09663316e+03 2.98095799e+03 8.10308393e+03]]\n",
      "\n",
      "1\n",
      "\n",
      "[1 4 7]\n",
      "\n",
      "[1 2 3]\n",
      "\n",
      "0\n",
      "\n",
      "[0 0 0]\n",
      "\n",
      "45\n",
      "\n",
      "[4. 5. 6.]\n",
      "\n",
      "[4. 5. 6.]\n"
     ]
    }
   ],
   "source": [
    "print(np.exp(B))\n",
    "print()\n",
    "print(B.min())\n",
    "print()\n",
    "print(B.min(axis=1))\n",
    "print()\n",
    "print(B.min(axis=0))\n",
    "print()\n",
    "print(np.argmin(B))\n",
    "print()\n",
    "print(np.argmin(B, axis=1))\n",
    "print()\n",
    "print(B.sum())\n",
    "print()\n",
    "print(B.mean(axis=0))\n",
    "print()\n",
    "print(np.median(B, axis=0))"
   ]
  },
  {
   "cell_type": "markdown",
   "id": "541eb7ba",
   "metadata": {},
   "source": [
    "### What does it mean when you provide fewer indices than axes when slicing? See example below."
   ]
  },
  {
   "cell_type": "code",
   "execution_count": 26,
   "id": "9c8abf56",
   "metadata": {},
   "outputs": [
    {
     "name": "stdout",
     "output_type": "stream",
     "text": [
      "[[ 1  2  3  4  5]\n",
      " [ 6  7  8  9 10]\n",
      " [11 12 13 14 15]]\n"
     ]
    }
   ],
   "source": [
    "print(A)"
   ]
  },
  {
   "cell_type": "code",
   "execution_count": 34,
   "id": "69415f7b",
   "metadata": {},
   "outputs": [
    {
     "name": "stdout",
     "output_type": "stream",
     "text": [
      "[ 6  7  8  9 10]\n",
      "[ 6  7  8  9 10]\n",
      "[ 6  7  8  9 10]\n"
     ]
    }
   ],
   "source": [
    "print(A[1])\n",
    "print(A[1,:])\n",
    "print(A[1,...])"
   ]
  },
  {
   "cell_type": "markdown",
   "id": "6c53541b",
   "metadata": {},
   "source": [
    "**Answer:**"
   ]
  },
  {
   "cell_type": "markdown",
   "id": "de01e120",
   "metadata": {},
   "source": [
    "When we specify fewer indices than the axes of the array then it is considered a complete slice. So A[1] returns the same answer as A[1,:], additionally we can use ... to represent all the colons needed to complete the slice, so A[1,...] returns the same as the other two examples as well."
   ]
  },
  {
   "cell_type": "markdown",
   "id": "6652d0c9",
   "metadata": {},
   "source": [
    "### Iterating over multidimensional arrays is done with respect to the first axis, so in the example below we iterate trough the rows. If you would like to iterate through the array *elementwise*, how would you do that?"
   ]
  },
  {
   "cell_type": "code",
   "execution_count": 31,
   "id": "9459864f",
   "metadata": {},
   "outputs": [
    {
     "data": {
      "text/plain": [
       "array([[ 1,  2,  3,  4,  5],\n",
       "       [ 6,  7,  8,  9, 10],\n",
       "       [11, 12, 13, 14, 15]])"
      ]
     },
     "execution_count": 31,
     "metadata": {},
     "output_type": "execute_result"
    }
   ],
   "source": [
    "A"
   ]
  },
  {
   "cell_type": "code",
   "execution_count": 32,
   "id": "a671bb5a",
   "metadata": {},
   "outputs": [
    {
     "name": "stdout",
     "output_type": "stream",
     "text": [
      "[1 2 3 4 5]\n",
      "[ 6  7  8  9 10]\n",
      "[11 12 13 14 15]\n"
     ]
    }
   ],
   "source": [
    "for i in A:\n",
    "    print(i)"
   ]
  },
  {
   "cell_type": "code",
   "execution_count": 35,
   "id": "f4e443a0",
   "metadata": {},
   "outputs": [
    {
     "name": "stdout",
     "output_type": "stream",
     "text": [
      "1\n",
      "2\n",
      "3\n",
      "4\n",
      "5\n",
      "6\n",
      "7\n",
      "8\n",
      "9\n",
      "10\n",
      "11\n",
      "12\n",
      "13\n",
      "14\n",
      "15\n"
     ]
    }
   ],
   "source": [
    "# numpy arrays come with the .flat attribute which allow us to iterate through the array elementwise\n",
    "\n",
    "for i in A.flat:\n",
    "    print(i)"
   ]
  },
  {
   "cell_type": "markdown",
   "id": "608a2583",
   "metadata": {},
   "source": [
    "### Explain what the code below does. More specifically, b has three axes - what does this mean? "
   ]
  },
  {
   "cell_type": "code",
   "execution_count": 146,
   "id": "f8f9b26f",
   "metadata": {},
   "outputs": [
    {
     "name": "stdout",
     "output_type": "stream",
     "text": [
      "[ 0  1  2  3  4  5  6  7  8  9 10 11 12 13 14 15 16 17 18 19 20 21 22 23\n",
      " 24 25 26 27 28 29]\n",
      "\n",
      "[[[ 0  1  2  3  4]\n",
      "  [ 5  6  7  8  9]\n",
      "  [10 11 12 13 14]]\n",
      "\n",
      " [[15 16 17 18 19]\n",
      "  [20 21 22 23 24]\n",
      "  [25 26 27 28 29]]]\n"
     ]
    }
   ],
   "source": [
    "a = np.arange(30)\n",
    "b = a.reshape((2, 3, -1))\n",
    "print(a)\n",
    "print()\n",
    "\n",
    "print(b)"
   ]
  },
  {
   "cell_type": "markdown",
   "id": "863a45df",
   "metadata": {},
   "source": [
    "Answer: we create a as an array containing values ranging from 0 to 29, since nothing else is specified it defaults to one dimensional array. Then we create b as a multidimensional reshaping of a which will consist of 2 blocks with 3 rows each, the -1 functions as a sort of autofill that calculates how many columns would be needed so that array b could contain all values in array a. \n",
    "\n",
    "b is 3 dimensional and has 2 axes"
   ]
  },
  {
   "cell_type": "code",
   "execution_count": 145,
   "id": "eed38bbb-dd20-4d23-837f-679aa3d3a067",
   "metadata": {},
   "outputs": [
    {
     "data": {
      "text/plain": [
       "array([[3, 4, 6],\n",
       "       [5, 6, 2],\n",
       "       [5, 7, 8]])"
      ]
     },
     "execution_count": 145,
     "metadata": {},
     "output_type": "execute_result"
    }
   ],
   "source": []
  },
  {
   "cell_type": "markdown",
   "id": "421c9607-819a-401d-949a-97424436fe29",
   "metadata": {},
   "source": [
    "# For the exercises below, read the document *\"matematik_yh_antonio_vektorer_matriser_utdrag\"*\n",
    "# Solutions to the exercises and recorded videos can be found here: https://github.com/AntonioPrgomet/matematik_foer_yh\n",
    "\n",
    "# If you find the exercises below very hard, do not worry. Try your best, that will be enough. "
   ]
  },
  {
   "cell_type": "markdown",
   "id": "ab5933d5",
   "metadata": {},
   "source": [
    "### Broadcasting\n",
    "**Read the following link about broadcasting: https://numpy.org/doc/stable/user/basics.broadcasting.html#basics-broadcasting**"
   ]
  },
  {
   "cell_type": "markdown",
   "id": "039805ba",
   "metadata": {},
   "source": [
    "# Remark on Broadcasting when doing Linear Algebra calculations in Python. "
   ]
  },
  {
   "cell_type": "markdown",
   "id": "c4bcc147",
   "metadata": {},
   "source": [
    "### From the mathematical rules of matrix addition, the operation below (m1 + m2) does not make sense. The reason is that matrix addition requires two matrices of the same size. In Python however, it works due to broadcasting rules in NumPy. So you must be careful when doing Linear Algebra calculations in Python since they do not follow the \"mathematical rules\". This can however easily be handled by doing some simple programming, for example validating that two matrices have the same shape is easy if you for instance want to add two matrices. "
   ]
  },
  {
   "cell_type": "code",
   "execution_count": 37,
   "id": "1fd46778",
   "metadata": {},
   "outputs": [
    {
     "name": "stdout",
     "output_type": "stream",
     "text": [
      "[[2 3]\n",
      " [4 5]]\n"
     ]
    }
   ],
   "source": [
    "m1 = np.array([[1, 2], [3, 4]])\n",
    "m2 = np.array([1, 1])\n",
    "print(m1 + m2)"
   ]
  },
  {
   "cell_type": "markdown",
   "id": "047d6576",
   "metadata": {},
   "source": [
    "### The example below would also not be allowed if following the \"mathematical rules\" in Linear Algebra. But it works due to broadcasting in NumPy. "
   ]
  },
  {
   "cell_type": "code",
   "execution_count": 38,
   "id": "5e6ef2e4",
   "metadata": {},
   "outputs": [
    {
     "name": "stdout",
     "output_type": "stream",
     "text": [
      "[2 3 4]\n"
     ]
    }
   ],
   "source": [
    "v1 = np.array([1, 2, 3])\n",
    "print(v1 + 1)"
   ]
  },
  {
   "cell_type": "code",
   "execution_count": 39,
   "id": "e2cbae26",
   "metadata": {},
   "outputs": [
    {
     "name": "stdout",
     "output_type": "stream",
     "text": [
      "[[1 2]\n",
      " [3 4]]\n",
      "[2 2]\n"
     ]
    }
   ],
   "source": [
    "A = np.arange(1, 5).reshape(2,2)\n",
    "print(A)\n",
    "\n",
    "b = np.array([2, 2])\n",
    "print(b)"
   ]
  },
  {
   "cell_type": "markdown",
   "id": "722fd5cd",
   "metadata": {},
   "source": [
    "# Vector- and matrix algebra Exercises"
   ]
  },
  {
   "cell_type": "markdown",
   "id": "b63a3081-d976-4d9f-bfd0-a63917e79f7d",
   "metadata": {},
   "source": [
    "**Now you are going to create a function that can be reused every time you add or multiply matrices. The function is created so that we do the addition and multiplication according to the rules of vector- and matrix algebra.**\n",
    "\n",
    "**Create a function \"add_mult_matrices\" that takes two matrices as input arguments (validate that the input are of the type numpy.ndarray by using the isinstance function), a third argument that is either 'add' or 'multiply' that specifies if you want to add or multiply the matrices (validate that the third argument is either 'add' or 'multiply'). When doing matrix addition, validate that the matrices have the same size. When doing matrix multiplication, validate that the sizes conform (i.e. number of columns in the first matrix is equal to the number of rows in the second matrix).**"
   ]
  },
  {
   "cell_type": "code",
   "execution_count": 51,
   "id": "3506f977-ac0a-473f-85bc-eec9f35dc498",
   "metadata": {},
   "outputs": [],
   "source": [
    "def add_mult_matrices(x, y, math):\n",
    "    isinstance([x,y], np.ndarray) == True\n",
    "    math == 'add' or 'mult'\n",
    "    if math == 'add' and x.shape == y.shape:\n",
    "        return x + y\n",
    "    elif math == 'add' and x.shape != y.shape:\n",
    "        raise Exception ('Matrices must be of the same shape')\n",
    "        \n",
    "    \n",
    "    if math == 'mult' and np.size(x, axis=1) == np.size(y, axis=0):\n",
    "        return x @ y\n",
    "    elif math == 'mult' and np.size(x, axis=1) != np.size(y, axis=0):\n",
    "        raise Exception ('The number of columns in the first matrix must equal the number of rows in the second matrix')\n",
    "        \n",
    "    "
   ]
  },
  {
   "cell_type": "code",
   "execution_count": 52,
   "id": "fe0ed51c",
   "metadata": {},
   "outputs": [
    {
     "ename": "Exception",
     "evalue": "The number of columns in the first matrix must equal the number of rows in the second matrix",
     "output_type": "error",
     "traceback": [
      "\u001b[1;31m---------------------------------------------------------------------------\u001b[0m",
      "\u001b[1;31mException\u001b[0m                                 Traceback (most recent call last)",
      "Cell \u001b[1;32mIn[52], line 8\u001b[0m\n\u001b[0;32m      5\u001b[0m E \u001b[38;5;241m=\u001b[39m np\u001b[38;5;241m.\u001b[39marray([\u001b[38;5;241m1\u001b[39m,\u001b[38;5;241m2\u001b[39m])\u001b[38;5;241m.\u001b[39mreshape(\u001b[38;5;241m2\u001b[39m,\u001b[38;5;241m1\u001b[39m)\n\u001b[0;32m      6\u001b[0m I \u001b[38;5;241m=\u001b[39m np\u001b[38;5;241m.\u001b[39marray([\u001b[38;5;241m1\u001b[39m, \u001b[38;5;241m0\u001b[39m, \u001b[38;5;241m0\u001b[39m, \u001b[38;5;241m1\u001b[39m])\u001b[38;5;241m.\u001b[39mreshape(\u001b[38;5;241m2\u001b[39m,\u001b[38;5;241m2\u001b[39m)\n\u001b[1;32m----> 8\u001b[0m \u001b[43madd_mult_matrices\u001b[49m\u001b[43m(\u001b[49m\u001b[43mE\u001b[49m\u001b[43m,\u001b[49m\u001b[43m \u001b[49m\u001b[43mC\u001b[49m\u001b[43m,\u001b[49m\u001b[43m \u001b[49m\u001b[38;5;124;43m'\u001b[39;49m\u001b[38;5;124;43mmult\u001b[39;49m\u001b[38;5;124;43m'\u001b[39;49m\u001b[43m)\u001b[49m\n",
      "Cell \u001b[1;32mIn[51], line 13\u001b[0m, in \u001b[0;36madd_mult_matrices\u001b[1;34m(x, y, math)\u001b[0m\n\u001b[0;32m     11\u001b[0m     \u001b[38;5;28;01mreturn\u001b[39;00m x \u001b[38;5;241m@\u001b[39m y\n\u001b[0;32m     12\u001b[0m \u001b[38;5;28;01melif\u001b[39;00m math \u001b[38;5;241m==\u001b[39m \u001b[38;5;124m'\u001b[39m\u001b[38;5;124mmult\u001b[39m\u001b[38;5;124m'\u001b[39m \u001b[38;5;129;01mand\u001b[39;00m np\u001b[38;5;241m.\u001b[39msize(x, axis\u001b[38;5;241m=\u001b[39m\u001b[38;5;241m1\u001b[39m) \u001b[38;5;241m!=\u001b[39m np\u001b[38;5;241m.\u001b[39msize(y, axis\u001b[38;5;241m=\u001b[39m\u001b[38;5;241m0\u001b[39m):\n\u001b[1;32m---> 13\u001b[0m     \u001b[38;5;28;01mraise\u001b[39;00m \u001b[38;5;167;01mException\u001b[39;00m (\u001b[38;5;124m'\u001b[39m\u001b[38;5;124mThe number of columns in the first matrix must equal the number of rows in the second matrix\u001b[39m\u001b[38;5;124m'\u001b[39m)\n",
      "\u001b[1;31mException\u001b[0m: The number of columns in the first matrix must equal the number of rows in the second matrix"
     ]
    }
   ],
   "source": [
    "A = np.array([2, 1, -1, 1, -1, 1]).reshape(2,3)\n",
    "B = np.array([4, -2, 1, 2, -4, -2]).reshape(2,3)\n",
    "C = np.array([1, 2, 2,1]).reshape(2,2)\n",
    "D = np.array([3,4,4,3]).reshape(2,2)\n",
    "E = np.array([1,2]).reshape(2,1)\n",
    "I = np.array([1, 0, 0, 1]).reshape(2,2)\n",
    "\n",
    "add_mult_matrices(E, C, 'mult')"
   ]
  },
  {
   "cell_type": "markdown",
   "id": "8dad82d0-2359-4dff-8f5b-a57d3e34103c",
   "metadata": {},
   "source": [
    "### Solve all the exercises in chapter 10.1 in the book \"Matematik för yrkeshögskolan\" by using Python. "
   ]
  },
  {
   "cell_type": "code",
   "execution_count": 56,
   "id": "89df88af-3668-4d98-a0a4-e6d92eea0f89",
   "metadata": {},
   "outputs": [
    {
     "name": "stdout",
     "output_type": "stream",
     "text": [
      "Uppgift 10.1.1\n",
      "a: 1\n",
      "b: [20 15]\n",
      "c: [12  9]\n",
      "d: [32 24]\n",
      "e: [32 24]\n",
      "f: [12  9]\n",
      "g: [[4]\n",
      " [3]] 2\n",
      "h: [[8 7]\n",
      " [7 6]]\n",
      "i: 5.0\n",
      "Uppgift 10.1.2.\n",
      "a: 2\n",
      "b: [[ 6]\n",
      " [14]\n",
      " [ 0]\n",
      " [22]]\n",
      "c: [[21]\n",
      " [49]\n",
      " [ 0]\n",
      " [77]]\n",
      "d: [[ 6]\n",
      " [14]\n",
      " [ 0]\n",
      " [22]]\n",
      "e: [[ 3  7  0 11]] 2\n",
      "f: 13.379088160259652\n",
      "Uppgift 10.1.3\n",
      "a: 7.14142842854285\n",
      "b: 4.47213595499958\n"
     ]
    }
   ],
   "source": [
    "\n",
    "print('Uppgift 10.1.1')\n",
    "# Uppgift 10.1.1. Definiera vektorn x enligt nedan.\n",
    "# x = (4, 3)\n",
    "# (a) Vilken dimension har vektorn x?\n",
    "# (b) Ber¨akna 5x.\n",
    "# (c) Ber¨akna 3x.\n",
    "# (d) Ber¨akna 5x + 3x.\n",
    "# (e) Ber¨akna 8x.\n",
    "# (f) Ber¨akna 4x − x.\n",
    "# (g) Ber¨akna x⊤, vilken blir den nya dimensionen efter att\n",
    "# transponeringen utf¨orts?\n",
    "# (h) ¨Ar x + x⊤ definierat?\n",
    "# (i) Ber¨akna ∥x∥.\n",
    "\n",
    "x = np.array([4,3])\n",
    "\n",
    "print('a:', x.ndim) # a\n",
    "print('b:', x*5) # b\n",
    "print('c:', x*3) # c\n",
    "print('d:', (x*5)+(x*3)) # d\n",
    "print('e:', x*8) # e\n",
    "print('f:', (x*4)-x) # f\n",
    "print('g:', (np.atleast_2d(x).T), (np.atleast_2d(x).T).ndim) # g\n",
    "print('h:', x+(np.atleast_2d(x).T)) # matematiskt är det x + xT inte definerad pga de två vektorna inte har samma dimensioner, \n",
    "                              #numpy kommer ändå räkna det igenom sin broadcast feature\n",
    "print('i:', np.linalg.norm(x))\n",
    "\n",
    "print('Uppgift 10.1.2.')\n",
    "# Definiera vektorn v enligt nedan.\n",
    "# v =\n",
    "# 3\n",
    "# 7\n",
    "# 0\n",
    "# 11\n",
    "# (a) Vilken dimension har vektorn v?\n",
    "# (b) Ber¨akna 2v.\n",
    "# (c) Ber¨akna 5v + 2v.\n",
    "# (d) Ber¨akna 4v − 2v.\n",
    "# (e) Ber¨akna v⊤, vilken blir den nya dimensionen efter att\n",
    "# transponeringen utf¨orts?\n",
    "# (f) Ber¨akna ∥v∥\n",
    "\n",
    "v = np.array(([3], [7], [0],[11]))\n",
    "\n",
    "print('a:', v.ndim) # a\n",
    "print('b:', v*2) # b\n",
    "print('c:', (v*5)+(v*2))# c\n",
    "print('d:', (v*4)-(v*2))# d\n",
    "print('e:', v.T, v.ndim)# e\n",
    "print('f:', np.linalg.norm(v))# f\n",
    "\n",
    "# Uppgift 10.1.3. Definiera vektorerna v1 = (4, 3, 1, 5) och\n",
    "# v2 = (2, 3, 1, 1).\n",
    "# (a) Ber¨akna ∥v1∥.\n",
    "# (b) Ber¨akna ∥v1 − v2∥.\n",
    "print('Uppgift 10.1.3')\n",
    "v1 = np.array([4,3,1,5])\n",
    "v2 = np.array([2,3,1,1])\n",
    "\n",
    "print('a:', np.linalg.norm(v1))\n",
    "print('b:', np.linalg.norm(v1-v2))"
   ]
  },
  {
   "cell_type": "markdown",
   "id": "75c98984-1f88-4df1-b850-d2466de444a5",
   "metadata": {},
   "source": [
    "### Solve all the exercises, except 10.2.4, in chapter 10.2 in the book \"Matematik för yrkeshögskolan\" by using Python. "
   ]
  },
  {
   "cell_type": "code",
   "execution_count": 57,
   "id": "65371610-16e1-48b2-b7fb-65e49002608a",
   "metadata": {},
   "outputs": [
    {
     "name": "stdout",
     "output_type": "stream",
     "text": [
      "Uppgift 10.2.1.\n",
      "a: [[ 4  2 -2]\n",
      " [ 2 -2  2]]\n",
      "b: [[ 0 -4  3]\n",
      " [ 0 -2 -4]]\n",
      "c: [[ 1  4]\n",
      " [ 2 -1]]\n",
      "d: [[3 2]\n",
      " [2 3]]\n",
      "e: [[ 9 12]\n",
      " [12  9]]\n",
      "f: [[-4 -4]\n",
      " [-4 -4]]\n",
      "g: (A.T)-B är ej definerad\n",
      "h: A @ C ej definerad\n",
      "i: [[11 10]\n",
      " [10 11]]\n",
      "j: [[  8 -10  -3]\n",
      " [ 10  -8   0]]\n",
      "k: [[1 2]\n",
      " [2 1]]\n",
      "l: [[5 2]\n",
      " [7 4]]\n",
      "\n",
      "Uppgift 10.2.2\n",
      "[[29 26]\n",
      " [26 42]]\n",
      "Uppgift 10.2.3.\n",
      "[[ 4  7]\n",
      " [ 8 14]] [[ 4  7]\n",
      " [ 8 14]] [[2 1]\n",
      " [1 3]] [[4 3]\n",
      " [0 2]]\n"
     ]
    }
   ],
   "source": [
    "# Uppgift 10.2.1. Definiera matriserna:\n",
    "# (a) 2A\n",
    "# (b) B − 2A\n",
    "# (c) 3C − 2E\n",
    "# (d) 2D − 3C\n",
    "# (e) D⊤ + 2D\n",
    "# (f) 2C⊤ − 2D⊤\n",
    "# (g) A⊤ − B\n",
    "# (h) AC\n",
    "# (i) CD\n",
    "# (j) CB\n",
    "# (k) CI\n",
    "# (l) AB⊤\n",
    "\n",
    "A = np.array([2, 1, -1, 1, -1, 1]).reshape(2,3)\n",
    "B = np.array([4, -2, 1, 2, -4, -2]).reshape(2,3)\n",
    "C = np.array([1, 2, 2,1]).reshape(2,2)\n",
    "D = np.array([3,4,4,3]).reshape(2,2)\n",
    "E = np.array([1,2]).reshape(2,1)\n",
    "I = np.array([1, 0, 0, 1]).reshape(2,2)\n",
    "print('Uppgift 10.2.1.')\n",
    "print('a:', 2*A)# a\n",
    "print('b:', B-(2*A)) # b\n",
    "print('c:', (3*C)-(2*E))# c\n",
    "print('d:', (2*D)-(3*C)) # d\n",
    "print('e:', (D.T)+(2*D)) # e\n",
    "print('f:', (2*C.T)-(2*D.T)) # f\n",
    "print('g:', '(A.T)-B är ej definerad')\n",
    "print('h:', 'A @ C ej definerad')\n",
    "print('i:', C @ D) # i\n",
    "print('j:', C @ B) # j\n",
    "print('k:', C @ I) # k\n",
    "print('l:', A @ B.T) # l\n",
    "print()\n",
    "print('Uppgift 10.2.2')\n",
    "# Uppgift 10.2.2. Definiera matrisen\n",
    "# Ber¨akna AAT\n",
    "A = np.array([2, 3, 4, 5, 4, 1]).reshape(2,3)\n",
    "print(A@A.T)\n",
    "print(\"Uppgift 10.2.3.\")\n",
    "\n",
    "A = np.array([1, 2, 2, 4]).reshape(2,2)\n",
    "B = np.array([2, 1, 1,3]).reshape(2,2)\n",
    "C = np.array([4, 3, 0, 2]).reshape(2,2)\n",
    "\n",
    "print(A@B, A@C, B, C)\n",
    "# Verifiera att AB = AC men att B̸ = C. Vad vi vill demon-\n",
    "# strera med detta exemplet ¨ar att vi har definierat ett nytt\n",
    "# matematiskt objekt (matriser i detta fallet) och att de ”van-\n",
    "# liga reglerna” f¨or aritmetik som vi l¨art oss fr˚an grundskolan\n",
    "# inte n¨odv¨andigtvis g¨aller ¨aven h¨ar.\n",
    "\n",
    "\n",
    "\n"
   ]
  },
  {
   "cell_type": "markdown",
   "id": "6a4a524f",
   "metadata": {},
   "source": [
    "### Copies and Views\n",
    "Read the following link: https://numpy.org/doc/stable/user/basics.copies.html"
   ]
  },
  {
   "cell_type": "markdown",
   "id": "6cbbeaf7",
   "metadata": {},
   "source": [
    "**Basic indexing creates a view, How can you check if v1 and v2 is a view or copy? If you change the last element in v2 to 123, will the last element in v1 be changed? Why?**"
   ]
  },
  {
   "cell_type": "code",
   "execution_count": 5,
   "id": "5b9ef4df",
   "metadata": {},
   "outputs": [
    {
     "name": "stdout",
     "output_type": "stream",
     "text": [
      "[  0   1   2 123]\n",
      "[  2 123]\n"
     ]
    }
   ],
   "source": [
    "v1 = np.arange(4)\n",
    "v2 = v1[-2:]\n",
    "v2[-1] = 123\n",
    "print(v1)\n",
    "print(v2)"
   ]
  },
  {
   "cell_type": "code",
   "execution_count": 7,
   "id": "d2440489",
   "metadata": {},
   "outputs": [
    {
     "name": "stdout",
     "output_type": "stream",
     "text": [
      "None\n",
      "[  0   1   2 123]\n"
     ]
    }
   ],
   "source": [
    "# The base attribute of a view returns the original array while it returns None for a copy.\n",
    "print(v1.base)\n",
    "print(v2.base)"
   ]
  },
  {
   "cell_type": "code",
   "execution_count": 8,
   "id": "c8752807",
   "metadata": {},
   "outputs": [
    {
     "name": "stdout",
     "output_type": "stream",
     "text": [
      "[  0   1   2 123]\n",
      "[  2 123]\n"
     ]
    }
   ],
   "source": [
    "# The last element in v1 will be changed aswell since v2 is a view, meaning they share the same data buffer.\n",
    "v2[-1] = 123\n",
    "print(v1)\n",
    "print(v2)"
   ]
  },
  {
   "cell_type": "code",
   "execution_count": null,
   "id": "3dd68221",
   "metadata": {},
   "outputs": [],
   "source": []
  }
 ],
 "metadata": {
  "kernelspec": {
   "display_name": ".venv",
   "language": "python",
   "name": "python3"
  },
  "language_info": {
   "codemirror_mode": {
    "name": "ipython",
    "version": 3
   },
   "file_extension": ".py",
   "mimetype": "text/x-python",
   "name": "python",
   "nbconvert_exporter": "python",
   "pygments_lexer": "ipython3",
   "version": "3.12.3"
  }
 },
 "nbformat": 4,
 "nbformat_minor": 5
}
